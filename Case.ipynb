{
 "cells": [
  {
   "cell_type": "markdown",
   "id": "602170ee-8353-4634-b5cf-e5e77aed9dda",
   "metadata": {},
   "source": [
    "# Case - Modelo preditivo para aprovação de crédito"
   ]
  },
  {
   "cell_type": "markdown",
   "id": "17ded22c-9d0f-4cdb-b0d0-1cd3e9b15969",
   "metadata": {},
   "source": [
    "@author: Matheus Alexandre"
   ]
  },
  {
   "cell_type": "markdown",
   "id": "84b16222-33d2-45e5-b021-67739c5396d1",
   "metadata": {
    "tags": []
   },
   "source": [
    "## Importações"
   ]
  },
  {
   "cell_type": "code",
   "execution_count": 1,
   "id": "c054f8e6-baad-4053-add6-327514c43739",
   "metadata": {},
   "outputs": [],
   "source": [
    "import time\n",
    "import pandas as pd\n",
    "import numpy as np\n",
    "import seaborn as sns\n",
    "import matplotlib.pyplot as plt\n",
    "\n",
    "from imblearn.over_sampling import RandomOverSampler\n",
    "from sklearn.preprocessing import StandardScaler\n",
    "\n",
    "from sklearn.compose import ColumnTransformer\n",
    "\n",
    "from sklearn.linear_model import LogisticRegression\n",
    "from sklearn.svm import SVC\n",
    "from sklearn.neighbors import KNeighborsClassifier\n",
    "from sklearn.ensemble import RandomForestClassifier, GradientBoostingClassifier\n",
    "\n",
    "from sklearn.metrics import precision_score, recall_score, f1_score, roc_auc_score, accuracy_score, confusion_matrix, ConfusionMatrixDisplay\n",
    "from sklearn.model_selection import cross_validate, GridSearchCV, cross_val_score, train_test_split"
   ]
  },
  {
   "cell_type": "markdown",
   "id": "6823d5f5-3ff8-4ecb-a324-ec1c2b86d18e",
   "metadata": {},
   "source": [
    "- Leitura dos datasets de treinamento"
   ]
  },
  {
   "cell_type": "code",
   "execution_count": 2,
   "id": "36101470-af58-48bc-b9af-12180a9a3403",
   "metadata": {},
   "outputs": [],
   "source": [
    "df_train = pd.read_csv('treino.csv')"
   ]
  },
  {
   "cell_type": "code",
   "execution_count": 3,
   "id": "eed8c24f-84b3-43df-a703-27c28d9fd28f",
   "metadata": {},
   "outputs": [
    {
     "data": {
      "text/html": [
       "<div>\n",
       "<style scoped>\n",
       "    .dataframe tbody tr th:only-of-type {\n",
       "        vertical-align: middle;\n",
       "    }\n",
       "\n",
       "    .dataframe tbody tr th {\n",
       "        vertical-align: top;\n",
       "    }\n",
       "\n",
       "    .dataframe thead th {\n",
       "        text-align: right;\n",
       "    }\n",
       "</style>\n",
       "<table border=\"1\" class=\"dataframe\">\n",
       "  <thead>\n",
       "    <tr style=\"text-align: right;\">\n",
       "      <th></th>\n",
       "      <th>inadimplente</th>\n",
       "      <th>util_linhas_inseguras</th>\n",
       "      <th>idade</th>\n",
       "      <th>vezes_passou_de_30_59_dias</th>\n",
       "      <th>razao_debito</th>\n",
       "      <th>salario_mensal</th>\n",
       "      <th>numero_linhas_crdto_aberto</th>\n",
       "      <th>numero_vezes_passou_90_dias</th>\n",
       "      <th>numero_emprestimos_imobiliarios</th>\n",
       "      <th>numero_de_vezes_que_passou_60_89_dias</th>\n",
       "      <th>numero_de_dependentes</th>\n",
       "    </tr>\n",
       "  </thead>\n",
       "  <tbody>\n",
       "    <tr>\n",
       "      <th>0</th>\n",
       "      <td>1</td>\n",
       "      <td>0.766127</td>\n",
       "      <td>45</td>\n",
       "      <td>2</td>\n",
       "      <td>0.802982</td>\n",
       "      <td>9120.0</td>\n",
       "      <td>13</td>\n",
       "      <td>0</td>\n",
       "      <td>6</td>\n",
       "      <td>0</td>\n",
       "      <td>2.0</td>\n",
       "    </tr>\n",
       "    <tr>\n",
       "      <th>1</th>\n",
       "      <td>0</td>\n",
       "      <td>0.957151</td>\n",
       "      <td>40</td>\n",
       "      <td>0</td>\n",
       "      <td>0.121876</td>\n",
       "      <td>2600.0</td>\n",
       "      <td>4</td>\n",
       "      <td>0</td>\n",
       "      <td>0</td>\n",
       "      <td>0</td>\n",
       "      <td>1.0</td>\n",
       "    </tr>\n",
       "    <tr>\n",
       "      <th>2</th>\n",
       "      <td>0</td>\n",
       "      <td>0.658180</td>\n",
       "      <td>38</td>\n",
       "      <td>1</td>\n",
       "      <td>0.085113</td>\n",
       "      <td>3042.0</td>\n",
       "      <td>2</td>\n",
       "      <td>1</td>\n",
       "      <td>0</td>\n",
       "      <td>0</td>\n",
       "      <td>0.0</td>\n",
       "    </tr>\n",
       "    <tr>\n",
       "      <th>3</th>\n",
       "      <td>0</td>\n",
       "      <td>0.233810</td>\n",
       "      <td>30</td>\n",
       "      <td>0</td>\n",
       "      <td>0.036050</td>\n",
       "      <td>3300.0</td>\n",
       "      <td>5</td>\n",
       "      <td>0</td>\n",
       "      <td>0</td>\n",
       "      <td>0</td>\n",
       "      <td>0.0</td>\n",
       "    </tr>\n",
       "    <tr>\n",
       "      <th>4</th>\n",
       "      <td>0</td>\n",
       "      <td>0.907239</td>\n",
       "      <td>49</td>\n",
       "      <td>1</td>\n",
       "      <td>0.024926</td>\n",
       "      <td>63588.0</td>\n",
       "      <td>7</td>\n",
       "      <td>0</td>\n",
       "      <td>1</td>\n",
       "      <td>0</td>\n",
       "      <td>0.0</td>\n",
       "    </tr>\n",
       "  </tbody>\n",
       "</table>\n",
       "</div>"
      ],
      "text/plain": [
       "   inadimplente  util_linhas_inseguras  idade  vezes_passou_de_30_59_dias  \\\n",
       "0             1               0.766127     45                           2   \n",
       "1             0               0.957151     40                           0   \n",
       "2             0               0.658180     38                           1   \n",
       "3             0               0.233810     30                           0   \n",
       "4             0               0.907239     49                           1   \n",
       "\n",
       "   razao_debito  salario_mensal  numero_linhas_crdto_aberto  \\\n",
       "0      0.802982          9120.0                          13   \n",
       "1      0.121876          2600.0                           4   \n",
       "2      0.085113          3042.0                           2   \n",
       "3      0.036050          3300.0                           5   \n",
       "4      0.024926         63588.0                           7   \n",
       "\n",
       "   numero_vezes_passou_90_dias  numero_emprestimos_imobiliarios  \\\n",
       "0                            0                                6   \n",
       "1                            0                                0   \n",
       "2                            1                                0   \n",
       "3                            0                                0   \n",
       "4                            0                                1   \n",
       "\n",
       "   numero_de_vezes_que_passou_60_89_dias  numero_de_dependentes  \n",
       "0                                      0                    2.0  \n",
       "1                                      0                    1.0  \n",
       "2                                      0                    0.0  \n",
       "3                                      0                    0.0  \n",
       "4                                      0                    0.0  "
      ]
     },
     "execution_count": 3,
     "metadata": {},
     "output_type": "execute_result"
    }
   ],
   "source": [
    "df_train.head()"
   ]
  },
  {
   "cell_type": "code",
   "execution_count": 4,
   "id": "34db37b1-f36d-431a-878e-95c91d870278",
   "metadata": {},
   "outputs": [
    {
     "name": "stdout",
     "output_type": "stream",
     "text": [
      "DataFrame Treinamento -  linhas: 110000  colunas: 11\n"
     ]
    }
   ],
   "source": [
    "print(\"DataFrame Treinamento -  linhas:\", df_train.shape[0],\" colunas:\", df_train.shape[1])"
   ]
  },
  {
   "cell_type": "markdown",
   "id": "70cd1984-5b9b-4870-ab7d-18b5f445206f",
   "metadata": {},
   "source": [
    "## Entendimento da base de dados"
   ]
  },
  {
   "cell_type": "markdown",
   "id": "d742926c-3951-4865-8564-605c37106e15",
   "metadata": {},
   "source": [
    "- Durante a exploração dos dados, é possível identificar possíveis anomalias presente e até mesmo gerar alguns *insights* iniciais de como lidar com os dados."
   ]
  },
  {
   "cell_type": "code",
   "execution_count": 5,
   "id": "547c73d5-5f3c-477a-a485-ea0e9e741b45",
   "metadata": {},
   "outputs": [
    {
     "data": {
      "text/html": [
       "<div>\n",
       "<style scoped>\n",
       "    .dataframe tbody tr th:only-of-type {\n",
       "        vertical-align: middle;\n",
       "    }\n",
       "\n",
       "    .dataframe tbody tr th {\n",
       "        vertical-align: top;\n",
       "    }\n",
       "\n",
       "    .dataframe thead th {\n",
       "        text-align: right;\n",
       "    }\n",
       "</style>\n",
       "<table border=\"1\" class=\"dataframe\">\n",
       "  <thead>\n",
       "    <tr style=\"text-align: right;\">\n",
       "      <th></th>\n",
       "      <th>inadimplente</th>\n",
       "      <th>util_linhas_inseguras</th>\n",
       "      <th>idade</th>\n",
       "      <th>vezes_passou_de_30_59_dias</th>\n",
       "      <th>razao_debito</th>\n",
       "      <th>salario_mensal</th>\n",
       "      <th>numero_linhas_crdto_aberto</th>\n",
       "      <th>numero_vezes_passou_90_dias</th>\n",
       "      <th>numero_emprestimos_imobiliarios</th>\n",
       "      <th>numero_de_vezes_que_passou_60_89_dias</th>\n",
       "      <th>numero_de_dependentes</th>\n",
       "    </tr>\n",
       "  </thead>\n",
       "  <tbody>\n",
       "    <tr>\n",
       "      <th>count</th>\n",
       "      <td>110000.000000</td>\n",
       "      <td>110000.000000</td>\n",
       "      <td>110000.000000</td>\n",
       "      <td>110000.000000</td>\n",
       "      <td>110000.000000</td>\n",
       "      <td>8.823700e+04</td>\n",
       "      <td>110000.000000</td>\n",
       "      <td>110000.000000</td>\n",
       "      <td>110000.000000</td>\n",
       "      <td>110000.000000</td>\n",
       "      <td>107122.000000</td>\n",
       "    </tr>\n",
       "    <tr>\n",
       "      <th>mean</th>\n",
       "      <td>0.066645</td>\n",
       "      <td>5.929979</td>\n",
       "      <td>52.255636</td>\n",
       "      <td>0.424055</td>\n",
       "      <td>354.823589</td>\n",
       "      <td>6.637411e+03</td>\n",
       "      <td>8.445573</td>\n",
       "      <td>0.269955</td>\n",
       "      <td>1.019891</td>\n",
       "      <td>0.243891</td>\n",
       "      <td>0.757482</td>\n",
       "    </tr>\n",
       "    <tr>\n",
       "      <th>std</th>\n",
       "      <td>0.249408</td>\n",
       "      <td>252.301965</td>\n",
       "      <td>14.768241</td>\n",
       "      <td>4.240780</td>\n",
       "      <td>2074.140421</td>\n",
       "      <td>1.338395e+04</td>\n",
       "      <td>5.139026</td>\n",
       "      <td>4.217326</td>\n",
       "      <td>1.135989</td>\n",
       "      <td>4.204137</td>\n",
       "      <td>1.114670</td>\n",
       "    </tr>\n",
       "    <tr>\n",
       "      <th>min</th>\n",
       "      <td>0.000000</td>\n",
       "      <td>0.000000</td>\n",
       "      <td>0.000000</td>\n",
       "      <td>0.000000</td>\n",
       "      <td>0.000000</td>\n",
       "      <td>0.000000e+00</td>\n",
       "      <td>0.000000</td>\n",
       "      <td>0.000000</td>\n",
       "      <td>0.000000</td>\n",
       "      <td>0.000000</td>\n",
       "      <td>0.000000</td>\n",
       "    </tr>\n",
       "    <tr>\n",
       "      <th>25%</th>\n",
       "      <td>0.000000</td>\n",
       "      <td>0.030054</td>\n",
       "      <td>41.000000</td>\n",
       "      <td>0.000000</td>\n",
       "      <td>0.175016</td>\n",
       "      <td>3.400000e+03</td>\n",
       "      <td>5.000000</td>\n",
       "      <td>0.000000</td>\n",
       "      <td>0.000000</td>\n",
       "      <td>0.000000</td>\n",
       "      <td>0.000000</td>\n",
       "    </tr>\n",
       "    <tr>\n",
       "      <th>50%</th>\n",
       "      <td>0.000000</td>\n",
       "      <td>0.155936</td>\n",
       "      <td>52.000000</td>\n",
       "      <td>0.000000</td>\n",
       "      <td>0.366682</td>\n",
       "      <td>5.400000e+03</td>\n",
       "      <td>8.000000</td>\n",
       "      <td>0.000000</td>\n",
       "      <td>1.000000</td>\n",
       "      <td>0.000000</td>\n",
       "      <td>0.000000</td>\n",
       "    </tr>\n",
       "    <tr>\n",
       "      <th>75%</th>\n",
       "      <td>0.000000</td>\n",
       "      <td>0.562806</td>\n",
       "      <td>63.000000</td>\n",
       "      <td>0.000000</td>\n",
       "      <td>0.866874</td>\n",
       "      <td>8.225000e+03</td>\n",
       "      <td>11.000000</td>\n",
       "      <td>0.000000</td>\n",
       "      <td>2.000000</td>\n",
       "      <td>0.000000</td>\n",
       "      <td>1.000000</td>\n",
       "    </tr>\n",
       "    <tr>\n",
       "      <th>max</th>\n",
       "      <td>1.000000</td>\n",
       "      <td>50708.000000</td>\n",
       "      <td>109.000000</td>\n",
       "      <td>98.000000</td>\n",
       "      <td>329664.000000</td>\n",
       "      <td>3.008750e+06</td>\n",
       "      <td>58.000000</td>\n",
       "      <td>98.000000</td>\n",
       "      <td>54.000000</td>\n",
       "      <td>98.000000</td>\n",
       "      <td>20.000000</td>\n",
       "    </tr>\n",
       "  </tbody>\n",
       "</table>\n",
       "</div>"
      ],
      "text/plain": [
       "        inadimplente  util_linhas_inseguras          idade  \\\n",
       "count  110000.000000          110000.000000  110000.000000   \n",
       "mean        0.066645               5.929979      52.255636   \n",
       "std         0.249408             252.301965      14.768241   \n",
       "min         0.000000               0.000000       0.000000   \n",
       "25%         0.000000               0.030054      41.000000   \n",
       "50%         0.000000               0.155936      52.000000   \n",
       "75%         0.000000               0.562806      63.000000   \n",
       "max         1.000000           50708.000000     109.000000   \n",
       "\n",
       "       vezes_passou_de_30_59_dias   razao_debito  salario_mensal  \\\n",
       "count               110000.000000  110000.000000    8.823700e+04   \n",
       "mean                     0.424055     354.823589    6.637411e+03   \n",
       "std                      4.240780    2074.140421    1.338395e+04   \n",
       "min                      0.000000       0.000000    0.000000e+00   \n",
       "25%                      0.000000       0.175016    3.400000e+03   \n",
       "50%                      0.000000       0.366682    5.400000e+03   \n",
       "75%                      0.000000       0.866874    8.225000e+03   \n",
       "max                     98.000000  329664.000000    3.008750e+06   \n",
       "\n",
       "       numero_linhas_crdto_aberto  numero_vezes_passou_90_dias  \\\n",
       "count               110000.000000                110000.000000   \n",
       "mean                     8.445573                     0.269955   \n",
       "std                      5.139026                     4.217326   \n",
       "min                      0.000000                     0.000000   \n",
       "25%                      5.000000                     0.000000   \n",
       "50%                      8.000000                     0.000000   \n",
       "75%                     11.000000                     0.000000   \n",
       "max                     58.000000                    98.000000   \n",
       "\n",
       "       numero_emprestimos_imobiliarios  numero_de_vezes_que_passou_60_89_dias  \\\n",
       "count                    110000.000000                          110000.000000   \n",
       "mean                          1.019891                               0.243891   \n",
       "std                           1.135989                               4.204137   \n",
       "min                           0.000000                               0.000000   \n",
       "25%                           0.000000                               0.000000   \n",
       "50%                           1.000000                               0.000000   \n",
       "75%                           2.000000                               0.000000   \n",
       "max                          54.000000                              98.000000   \n",
       "\n",
       "       numero_de_dependentes  \n",
       "count          107122.000000  \n",
       "mean                0.757482  \n",
       "std                 1.114670  \n",
       "min                 0.000000  \n",
       "25%                 0.000000  \n",
       "50%                 0.000000  \n",
       "75%                 1.000000  \n",
       "max                20.000000  "
      ]
     },
     "execution_count": 5,
     "metadata": {},
     "output_type": "execute_result"
    }
   ],
   "source": [
    "df_train.describe()"
   ]
  },
  {
   "cell_type": "markdown",
   "id": "b9e61d23-beb9-4117-bd22-b36e2d871d3e",
   "metadata": {},
   "source": [
    "- Existe um registro com `idade` igual a 0. Uma possibilidade para isso ter ocorrido são valores não preenchido (NaN) convertidos para numérico.\n",
    "- O valor mínimo para salário é 0, o que indica que não necessariamente os clientes devem possuir salário para terem crédito aprovado."
   ]
  },
  {
   "cell_type": "code",
   "execution_count": 6,
   "id": "f020c89d-4840-4488-9f89-55b0b12e9804",
   "metadata": {},
   "outputs": [
    {
     "name": "stdout",
     "output_type": "stream",
     "text": [
      "Registros com idade abaixo de 18: 1\n"
     ]
    }
   ],
   "source": [
    "print('Registros com idade abaixo de 18:', df_train.loc[ df_train.idade < 18, 'idade'].count())"
   ]
  },
  {
   "cell_type": "markdown",
   "id": "5e72c52d-2381-4517-9802-2560966b5528",
   "metadata": {},
   "source": [
    "- O preenchimento de valores ausentes é um importante estágio, impactando diretamente no resultado de predição do modelo.\n",
    "- Por se tratar de apenas um registro com valor 0, o método a ser utilizado para a correção será o descarte (drop)."
   ]
  },
  {
   "cell_type": "code",
   "execution_count": 7,
   "id": "4b42f82d-0c49-45f6-b49d-3ccb163b02cc",
   "metadata": {},
   "outputs": [],
   "source": [
    "df_train.drop(df_train[ df_train.idade == 0 ].index, inplace=True)"
   ]
  },
  {
   "cell_type": "code",
   "execution_count": 8,
   "id": "c2787a25-02a9-47bf-8900-8619cdd5b658",
   "metadata": {},
   "outputs": [
    {
     "data": {
      "image/png": "[encoded data removed]",
      "text/plain": [
       "<Figure size 600x400 with 1 Axes>"
      ]
     },
     "metadata": {},
     "output_type": "display_data"
    }
   ],
   "source": [
    "df_train.idade.plot(\n",
    "    kind='hist',\n",
    "    title='Distribuição das Idades dos clientes',\n",
    "    xlabel='Idade',\n",
    "    ylabel='Frequêcia',\n",
    "    **{\n",
    "        'alpha': 0.5,\n",
    "        'figsize': (6,4)\n",
    "      }\n",
    ");"
   ]
  },
  {
   "cell_type": "code",
   "execution_count": 9,
   "id": "e8bcb3a5-54a1-4b64-bd2d-9c5132a0ef37",
   "metadata": {},
   "outputs": [
    {
     "data": {
      "text/plain": [
       "inadimplente                                 0\n",
       "util_linhas_inseguras                        0\n",
       "idade                                        0\n",
       "vezes_passou_de_30_59_dias                   0\n",
       "razao_debito                                 0\n",
       "salario_mensal                           21763\n",
       "numero_linhas_crdto_aberto                   0\n",
       "numero_vezes_passou_90_dias                  0\n",
       "numero_emprestimos_imobiliarios              0\n",
       "numero_de_vezes_que_passou_60_89_dias        0\n",
       "numero_de_dependentes                     2878\n",
       "dtype: int64"
      ]
     },
     "execution_count": 9,
     "metadata": {},
     "output_type": "execute_result"
    }
   ],
   "source": [
    "df_train.isna().sum()"
   ]
  },
  {
   "cell_type": "markdown",
   "id": "0965348a-5236-4e87-bce8-51e5682cab77",
   "metadata": {},
   "source": [
    "- As variáveis `salario_mensal` e `numero_de_dependentes` são as únicas com valores NaN. A ausência desses valores é perfeitamente plausível.\n",
    "- Existem várias abordagens para lidar com valores ausentes: imputar valores com a média, moda, mediana, regressão linear, constante, etc. A abordagem a ser utilizada neste caso será a constante com valor 0."
   ]
  },
  {
   "cell_type": "code",
   "execution_count": 10,
   "id": "dd0ca568-6b42-4a92-bac8-8136ac6215c8",
   "metadata": {},
   "outputs": [],
   "source": [
    "df_train.fillna(value=0, inplace=True)"
   ]
  },
  {
   "cell_type": "markdown",
   "id": "c8d747af-763b-487c-a2ac-01310d9c8510",
   "metadata": {},
   "source": [
    "## Remoção de duplicatas"
   ]
  },
  {
   "cell_type": "code",
   "execution_count": 11,
   "id": "8a292e64-f7db-43b6-81ac-991f1e350ee7",
   "metadata": {},
   "outputs": [],
   "source": [
    "df_train.drop_duplicates(inplace=True)"
   ]
  },
  {
   "cell_type": "markdown",
   "id": "e6e3f4b6-7c1a-40d1-94e2-c9c79c21c1d1",
   "metadata": {},
   "source": [
    "## Escalonamento das variáveis"
   ]
  },
  {
   "cell_type": "markdown",
   "id": "d11989aa-48c8-4b0e-a772-51a3aed1f3f4",
   "metadata": {},
   "source": [
    "- Alguns algoritmos de aprendizado de máquina se beneficiam de padronizações ou normalizações dos dados. Aqueles que fazem uso do cálculo de alguma distância (seja euclidiana ou não), atuam melhor com dados padronizados."
   ]
  },
  {
   "cell_type": "code",
   "execution_count": 12,
   "id": "74876cf9-41eb-4907-8ca4-f766b0d4bf11",
   "metadata": {},
   "outputs": [],
   "source": [
    "df_train_scaled = df_train.copy()"
   ]
  },
  {
   "cell_type": "code",
   "execution_count": 13,
   "id": "e0772dc3-f0ad-41a7-97ab-f1edf5283e18",
   "metadata": {},
   "outputs": [],
   "source": [
    "X = df_train.drop('inadimplente', axis=1)\n",
    "\n",
    "scaler = StandardScaler()\n",
    "scaler.fit(X)\n",
    "\n",
    "df_train_scaled[X.columns] = scaler.transform(df_train[X.columns])"
   ]
  },
  {
   "cell_type": "markdown",
   "id": "6b44fae9-648e-413f-96cb-857021f73e0f",
   "metadata": {},
   "source": [
    "### Distribuição das classes"
   ]
  },
  {
   "cell_type": "code",
   "execution_count": 14,
   "id": "d91ae9e1-4967-4967-8e49-1d39ab02d4e5",
   "metadata": {},
   "outputs": [
    {
     "data": {
      "image/png": "[encoded data removed]",
      "text/plain": [
       "<Figure size 600x400 with 1 Axes>"
      ]
     },
     "metadata": {},
     "output_type": "display_data"
    }
   ],
   "source": [
    "df_train_scaled.inadimplente.value_counts().plot(\n",
    "    kind='bar',\n",
    "    title='Distribuição da classe Inadimplente',\n",
    "    xlabel='Classes',\n",
    "    ylabel='Instâncias',\n",
    "    color=[\"#0101DF\", \"#DF0101\"],\n",
    "    rot=0,\n",
    "    **{\n",
    "        'alpha': 0.5,\n",
    "        'figsize': (6,4)\n",
    "      }\n",
    ");"
   ]
  },
  {
   "cell_type": "code",
   "execution_count": 15,
   "id": "f6887139-23ec-4aba-983e-535c21b9fe2b",
   "metadata": {},
   "outputs": [
    {
     "name": "stdout",
     "output_type": "stream",
     "text": [
      "Adimplentes: 93.32% do dataset com 102178 amostras.\n"
     ]
    }
   ],
   "source": [
    "cls_samples = df_train_scaled.inadimplente.value_counts()[0]\n",
    "print(f'Adimplentes: {round(cls_samples/len(df_train_scaled) * 100,2)}% do dataset com {cls_samples} amostras.')"
   ]
  },
  {
   "cell_type": "code",
   "execution_count": 16,
   "id": "a2940b8a-f5fc-4cdb-8a0e-c58f9067af63",
   "metadata": {},
   "outputs": [
    {
     "name": "stdout",
     "output_type": "stream",
     "text": [
      "Inadimplentes: 6.68% do dataset com 7313 amostas.\n"
     ]
    }
   ],
   "source": [
    "cls_samples = df_train_scaled.inadimplente.value_counts()[1]\n",
    "print(f'Inadimplentes: {round(cls_samples/len(df_train_scaled) * 100,2)}% do dataset com {cls_samples} amostas.')"
   ]
  },
  {
   "cell_type": "markdown",
   "id": "4e77bdae-6c73-4901-95bd-087a45ed199e",
   "metadata": {},
   "source": [
    "- Outro problema bastante comum é o desbalanceamento de classes. No dataset fornecido, 6.68% dos dados pertencem à classe 1 (inadimplente).\n",
    "- Isso implica, além de outros fatores, na decisão de qual métrica utilizar para avaliar o modelo. A acurácia não é aconselhada pois, ao prever tudo como sendo da classe 0, pode fornecer uma falsa impressão de corretude do modelo, proporcionando um resultado de aproximadamente 93%. Como existe uma necessidade de identificar os casos em que os clientes são inadimplentes, outras métricas serão levadas em consideração.\n",
    "- Para contornar essa questão, é necessário fazer o balanceamento das classes. O métodos escolhido é o RandomOverSampler, que de acordo com a própria documentação:\n",
    "> \"... sobreamostra a(s) classe(s) minoritária(s) escolhendo amostras aleatoriamente com reposição.\""
   ]
  },
  {
   "cell_type": "code",
   "execution_count": 17,
   "id": "8b702133-fb5d-4656-b339-dcfc58322302",
   "metadata": {},
   "outputs": [],
   "source": [
    "X = df_train_scaled.drop('inadimplente', axis=1)\n",
    "y = df_train_scaled.inadimplente\n",
    "\n",
    "X_Over, Y_Over = RandomOverSampler(random_state=42).fit_resample(X, y)"
   ]
  },
  {
   "cell_type": "code",
   "execution_count": 18,
   "id": "74c4cd54-5767-4f62-9bfd-cc0e7a12313d",
   "metadata": {},
   "outputs": [
    {
     "name": "stdout",
     "output_type": "stream",
     "text": [
      "Distribuição das classes:\n",
      "1    102178\n",
      "0    102178\n",
      "Name: inadimplente, dtype: int64\n"
     ]
    }
   ],
   "source": [
    "print(f'Distribuição das classes:\\n{Y_Over.value_counts()}')"
   ]
  },
  {
   "cell_type": "markdown",
   "id": "646884f7-fcba-4b07-9350-13cbd8119996",
   "metadata": {},
   "source": [
    "## Treinamento e Seleção dos Algoritmos"
   ]
  },
  {
   "cell_type": "markdown",
   "id": "3d16396a-4c9b-4170-a8c2-239d338bf903",
   "metadata": {},
   "source": [
    "- A biblioteca scikit-learn proporciona dezenas de algoritmos de aprendizado de máquina. Com o intuito de ser mais sucinto, foram escolhidos apenas alguns que possuem diferentes abordagens. Dentre eles: Regressão Logística, KNN, Support Vector Machine, Random Forest e Gradient Boosting.\n",
    "- O que possuir a melhor combinação de parâmetros será posteriormente refinado e definido como modelo final para a tarefa."
   ]
  },
  {
   "cell_type": "code",
   "execution_count": 19,
   "id": "b536f9c6-6393-468e-aaae-101e028dd838",
   "metadata": {},
   "outputs": [],
   "source": [
    "X_train, X_test, y_train, y_test = train_test_split(X_Over, Y_Over, test_size=0.20, random_state=42)"
   ]
  },
  {
   "cell_type": "code",
   "execution_count": 20,
   "id": "4acbb697-fa83-43f1-80a4-1cf9fde726a9",
   "metadata": {},
   "outputs": [],
   "source": [
    "classifiers = {\n",
    "    \"LogisiticRegression\": LogisticRegression(),\n",
    "    \"KNearest\": KNeighborsClassifier(),\n",
    "    \"SupportVectorClassifier\": SVC(),\n",
    "    \"RandomForestClassifier\": RandomForestClassifier(),\n",
    "    \"GradientBoostingClassifier\": GradientBoostingClassifier()\n",
    "}"
   ]
  },
  {
   "cell_type": "code",
   "execution_count": 21,
   "id": "02bb98c9-0590-4784-a396-47f358e1779c",
   "metadata": {},
   "outputs": [
    {
     "name": "stdout",
     "output_type": "stream",
     "text": [
      "Classificador: LogisiticRegression | em 0.19s\n",
      "Recall Score: 0.6478\n",
      "Precision Score: 0.7722\n",
      "F1 Score: 0.7046\n",
      "Accuracy Score: 0.7282\n",
      "AUC Score: 0.7282\n",
      "--------------------------------------------------\n",
      "Classificador: KNearest | em 0.26s\n",
      "Recall Score: 0.9997\n",
      "Precision Score: 0.8757\n",
      "F1 Score: 0.9336\n",
      "Accuracy Score: 0.9288\n",
      "AUC Score: 0.9288\n",
      "--------------------------------------------------\n",
      "Classificador: SupportVectorClassifier | em 487.32s\n",
      "Recall Score: 0.6756\n",
      "Precision Score: 0.8181\n",
      "F1 Score: 0.7401\n",
      "Accuracy Score: 0.7625\n",
      "AUC Score: 0.7626\n",
      "--------------------------------------------------\n",
      "Classificador: RandomForestClassifier | em 18.10s\n",
      "Recall Score: 1.0000\n",
      "Precision Score: 0.9715\n",
      "F1 Score: 0.9855\n",
      "Accuracy Score: 0.9853\n",
      "AUC Score: 0.9853\n",
      "--------------------------------------------------\n",
      "Classificador: GradientBoostingClassifier | em 14.66s\n",
      "Recall Score: 0.7983\n",
      "Precision Score: 0.7907\n",
      "F1 Score: 0.7945\n",
      "Accuracy Score: 0.7933\n",
      "AUC Score: 0.7933\n",
      "--------------------------------------------------\n"
     ]
    }
   ],
   "source": [
    "for name, clf in classifiers.items():\n",
    "    start = time.time()\n",
    "    clf.fit(X_train, y_train)\n",
    "    stop = time.time()\n",
    "    \n",
    "    y_pred = clf.predict(X_test)\n",
    "    \n",
    "    print(f'Classificador: {name} | em {stop - start:.2f}s')\n",
    "    print(f'Recall Score: {recall_score(y_test, y_pred):.4f}')\n",
    "    print(f'Precision Score: {precision_score(y_test, y_pred):.4f}')\n",
    "    print(f'F1 Score: {f1_score(y_test, y_pred):.4f}')\n",
    "    print(f'Accuracy Score: {accuracy_score(y_test, y_pred):.4f}')\n",
    "    print(f'AUC Score: {roc_auc_score(y_test, y_pred):.4f}')\n",
    "    print(50*'-')"
   ]
  },
  {
   "cell_type": "markdown",
   "id": "6430992c-689e-4da7-a9ec-459b5be2f175",
   "metadata": {},
   "source": [
    "- Dos resultados obtidos, os algoritmos KNN e RandomForest se saíram melhores. Inclusive, o segundo retornou 100% na métrica recall, o que indica a ausência de falsos positivos.\n",
    "- A etapa seguinte é a de ajustes dos parâmetros, com o intuito de melhorar ainda mais os resultados do RandomForest."
   ]
  },
  {
   "cell_type": "markdown",
   "id": "97c9df0f-8c85-43f8-88cd-086814a323a0",
   "metadata": {},
   "source": [
    "## Refinamento dos Parâmetros"
   ]
  },
  {
   "cell_type": "code",
   "execution_count": 22,
   "id": "ca84d2b0-e608-4f17-a04c-6b906b3699f5",
   "metadata": {
    "tags": []
   },
   "outputs": [],
   "source": [
    "rf_params = {\n",
    "    # Número de árvores no random forest\n",
    "    'n_estimators': range(100, 200, 20),\n",
    "    # Número de atributos a ser considerado a cada divisão\n",
    "    'max_features': ['auto', 'sqrt'],\n",
    "    # Número máximo de profundidade na árvore\n",
    "    'max_depth': [None, 2, 4],\n",
    "    # Número mínimo de amostrar para cada divisão\n",
    "    'min_samples_split': [2, 5],\n",
    "    # Número mínimo de amostras necessárias para estar em um nó folha\n",
    "    'min_samples_leaf': [1, 2],\n",
    "    # Se as amostras bootstrap são usadas ao construir árvores.\n",
    "    'bootstrap': [True, False]\n",
    "}"
   ]
  },
  {
   "cell_type": "code",
   "execution_count": 23,
   "id": "1c42ae12-de16-418c-a00e-b68ff1fc1794",
   "metadata": {
    "tags": []
   },
   "outputs": [],
   "source": [
    "clf = RandomForestClassifier(\n",
    "    ccp_alpha=0.0,\n",
    "    class_weight=None,\n",
    "    criterion='gini',\n",
    "    max_leaf_nodes=None,\n",
    "    max_samples=None,\n",
    "    min_impurity_decrease=0.0,\n",
    "    min_weight_fraction_leaf=0.0,\n",
    "    n_jobs=None,\n",
    "    oob_score=False,\n",
    "    random_state=None,\n",
    "    verbose=0,\n",
    "    warm_start=False\n",
    ")\n",
    "\n",
    "rscv = GridSearchCV(\n",
    "    clf, \n",
    "    rf_params, \n",
    "    cv=3,\n",
    "    scoring='roc_auc', \n",
    "    return_train_score=False, \n",
    "    verbose=3, \n",
    "    n_jobs=-1\n",
    ")"
   ]
  },
  {
   "cell_type": "code",
   "execution_count": 24,
   "id": "c1e1f773-c63c-4ff7-ba9e-b66190fbb865",
   "metadata": {},
   "outputs": [
    {
     "name": "stdout",
     "output_type": "stream",
     "text": [
      "Fitting 3 folds for each of 240 candidates, totalling 720 fits\n",
      "Tempo de execução: 1038.25s\n",
      "Melhor valor de AUC: 0.9996\n"
     ]
    }
   ],
   "source": [
    "start = time.time()\n",
    "random_search = rscv.fit(X_train, y_train)\n",
    "stop = time.time()\n",
    "print(f'Tempo de execução: {stop-start:.2f}s')\n",
    "print(f'Melhor valor de AUC: {random_search.best_score_:.4f}')"
   ]
  },
  {
   "cell_type": "code",
   "execution_count": 25,
   "id": "191e8423-2a69-4118-a650-1f5e073b18eb",
   "metadata": {},
   "outputs": [
    {
     "data": {
      "text/plain": [
       "{'bootstrap': False,\n",
       " 'max_depth': None,\n",
       " 'max_features': 'sqrt',\n",
       " 'min_samples_leaf': 1,\n",
       " 'min_samples_split': 2,\n",
       " 'n_estimators': 180}"
      ]
     },
     "execution_count": 25,
     "metadata": {},
     "output_type": "execute_result"
    }
   ],
   "source": [
    "# Visualização dos parâmetros do melhor caso\n",
    "random_search.best_params_"
   ]
  },
  {
   "cell_type": "markdown",
   "id": "e8d5dbc7-8677-4d15-8db8-ddf265014f0f",
   "metadata": {
    "tags": []
   },
   "source": [
    "## Matriz de confusão"
   ]
  },
  {
   "cell_type": "markdown",
   "id": "ff9f2953-6e96-409d-b242-d30714417baf",
   "metadata": {},
   "source": [
    "- Para finalizar os testes no algoritmo de aprendizado, a matriz de confusão mostra como foram realizadas as predição para cada classe.\n",
    "- Assim podemos ter ideia de como, de fato, o modelo está se comportando diante dos dados fornecidos."
   ]
  },
  {
   "cell_type": "code",
   "execution_count": 26,
   "id": "a9b850c6-2340-4095-8b68-d5e55ebebcd0",
   "metadata": {},
   "outputs": [],
   "source": [
    "clf = RandomForestClassifier(**random_search.best_params_)\n",
    "clf.fit(X_train, y_train)\n",
    "y_pred = clf.predict(X_test)"
   ]
  },
  {
   "cell_type": "code",
   "execution_count": 27,
   "id": "62caf1d2-9d55-4fdb-b042-b01b3a82e025",
   "metadata": {},
   "outputs": [
    {
     "data": {
      "image/png": "[encoded data removed]",
      "text/plain": [
       "<Figure size 640x480 with 2 Axes>"
      ]
     },
     "metadata": {},
     "output_type": "display_data"
    }
   ],
   "source": [
    "cm = confusion_matrix(y_test, y_pred)\n",
    "\n",
    "cm_display = ConfusionMatrixDisplay(cm).plot(values_format='')"
   ]
  },
  {
   "cell_type": "markdown",
   "id": "28c9d41a-f0eb-4d4d-a1bd-48f0e8f34c1d",
   "metadata": {
    "tags": []
   },
   "source": [
    "## Teste no dataset final"
   ]
  },
  {
   "cell_type": "code",
   "execution_count": 28,
   "id": "7cf4cdba-3c96-4799-b415-3c7a01416e55",
   "metadata": {
    "tags": []
   },
   "outputs": [],
   "source": [
    "df_test = pd.read_csv('teste.csv')"
   ]
  },
  {
   "cell_type": "code",
   "execution_count": 29,
   "id": "d9358e1f-7af2-40c5-bdfa-0a011087322a",
   "metadata": {},
   "outputs": [
    {
     "data": {
      "text/html": [
       "<div>\n",
       "<style scoped>\n",
       "    .dataframe tbody tr th:only-of-type {\n",
       "        vertical-align: middle;\n",
       "    }\n",
       "\n",
       "    .dataframe tbody tr th {\n",
       "        vertical-align: top;\n",
       "    }\n",
       "\n",
       "    .dataframe thead th {\n",
       "        text-align: right;\n",
       "    }\n",
       "</style>\n",
       "<table border=\"1\" class=\"dataframe\">\n",
       "  <thead>\n",
       "    <tr style=\"text-align: right;\">\n",
       "      <th></th>\n",
       "      <th>util_linhas_inseguras</th>\n",
       "      <th>idade</th>\n",
       "      <th>vezes_passou_de_30_59_dias</th>\n",
       "      <th>razao_debito</th>\n",
       "      <th>salario_mensal</th>\n",
       "      <th>numero_linhas_crdto_aberto</th>\n",
       "      <th>numero_vezes_passou_90_dias</th>\n",
       "      <th>numero_emprestimos_imobiliarios</th>\n",
       "      <th>numero_de_vezes_que_passou_60_89_dias</th>\n",
       "      <th>numero_de_dependentes</th>\n",
       "    </tr>\n",
       "  </thead>\n",
       "  <tbody>\n",
       "    <tr>\n",
       "      <th>0</th>\n",
       "      <td>0.025849</td>\n",
       "      <td>62</td>\n",
       "      <td>0</td>\n",
       "      <td>0.081775</td>\n",
       "      <td>8180.0</td>\n",
       "      <td>3</td>\n",
       "      <td>0</td>\n",
       "      <td>2</td>\n",
       "      <td>0</td>\n",
       "      <td>0.0</td>\n",
       "    </tr>\n",
       "    <tr>\n",
       "      <th>1</th>\n",
       "      <td>0.667083</td>\n",
       "      <td>55</td>\n",
       "      <td>0</td>\n",
       "      <td>0.153112</td>\n",
       "      <td>2200.0</td>\n",
       "      <td>3</td>\n",
       "      <td>0</td>\n",
       "      <td>0</td>\n",
       "      <td>0</td>\n",
       "      <td>0.0</td>\n",
       "    </tr>\n",
       "    <tr>\n",
       "      <th>2</th>\n",
       "      <td>0.007093</td>\n",
       "      <td>44</td>\n",
       "      <td>0</td>\n",
       "      <td>0.148800</td>\n",
       "      <td>7499.0</td>\n",
       "      <td>20</td>\n",
       "      <td>0</td>\n",
       "      <td>1</td>\n",
       "      <td>0</td>\n",
       "      <td>0.0</td>\n",
       "    </tr>\n",
       "    <tr>\n",
       "      <th>3</th>\n",
       "      <td>0.091213</td>\n",
       "      <td>54</td>\n",
       "      <td>0</td>\n",
       "      <td>0.351635</td>\n",
       "      <td>5900.0</td>\n",
       "      <td>15</td>\n",
       "      <td>0</td>\n",
       "      <td>1</td>\n",
       "      <td>1</td>\n",
       "      <td>0.0</td>\n",
       "    </tr>\n",
       "    <tr>\n",
       "      <th>4</th>\n",
       "      <td>0.112680</td>\n",
       "      <td>54</td>\n",
       "      <td>0</td>\n",
       "      <td>0.065959</td>\n",
       "      <td>2167.0</td>\n",
       "      <td>3</td>\n",
       "      <td>0</td>\n",
       "      <td>0</td>\n",
       "      <td>0</td>\n",
       "      <td>0.0</td>\n",
       "    </tr>\n",
       "  </tbody>\n",
       "</table>\n",
       "</div>"
      ],
      "text/plain": [
       "   util_linhas_inseguras  idade  vezes_passou_de_30_59_dias  razao_debito  \\\n",
       "0               0.025849     62                           0      0.081775   \n",
       "1               0.667083     55                           0      0.153112   \n",
       "2               0.007093     44                           0      0.148800   \n",
       "3               0.091213     54                           0      0.351635   \n",
       "4               0.112680     54                           0      0.065959   \n",
       "\n",
       "   salario_mensal  numero_linhas_crdto_aberto  numero_vezes_passou_90_dias  \\\n",
       "0          8180.0                           3                            0   \n",
       "1          2200.0                           3                            0   \n",
       "2          7499.0                          20                            0   \n",
       "3          5900.0                          15                            0   \n",
       "4          2167.0                           3                            0   \n",
       "\n",
       "   numero_emprestimos_imobiliarios  numero_de_vezes_que_passou_60_89_dias  \\\n",
       "0                                2                                      0   \n",
       "1                                0                                      0   \n",
       "2                                1                                      0   \n",
       "3                                1                                      1   \n",
       "4                                0                                      0   \n",
       "\n",
       "   numero_de_dependentes  \n",
       "0                    0.0  \n",
       "1                    0.0  \n",
       "2                    0.0  \n",
       "3                    0.0  \n",
       "4                    0.0  "
      ]
     },
     "execution_count": 29,
     "metadata": {},
     "output_type": "execute_result"
    }
   ],
   "source": [
    "df_test.head()"
   ]
  },
  {
   "cell_type": "code",
   "execution_count": 30,
   "id": "9911ed6b-a619-4bf8-b03f-f86446c5f478",
   "metadata": {
    "tags": []
   },
   "outputs": [],
   "source": [
    "df_test_scaled = df_test.copy()\n",
    "df_test_scaled[df_test_scaled.columns] = scaler.transform(df_test[df_test.columns])"
   ]
  },
  {
   "cell_type": "code",
   "execution_count": 31,
   "id": "7b38f5c2-458b-4afa-8f04-ebc95a758890",
   "metadata": {},
   "outputs": [
    {
     "data": {
      "text/plain": [
       "util_linhas_inseguras                       0\n",
       "idade                                       0\n",
       "vezes_passou_de_30_59_dias                  0\n",
       "razao_debito                                0\n",
       "salario_mensal                           7968\n",
       "numero_linhas_crdto_aberto                  0\n",
       "numero_vezes_passou_90_dias                 0\n",
       "numero_emprestimos_imobiliarios             0\n",
       "numero_de_vezes_que_passou_60_89_dias       0\n",
       "numero_de_dependentes                    1046\n",
       "dtype: int64"
      ]
     },
     "execution_count": 31,
     "metadata": {},
     "output_type": "execute_result"
    }
   ],
   "source": [
    "df_test_scaled.isna().sum()"
   ]
  },
  {
   "cell_type": "code",
   "execution_count": 32,
   "id": "20b6f1be-3813-4587-8f22-0fab0fc0361c",
   "metadata": {},
   "outputs": [],
   "source": [
    "df_test_scaled.fillna(value=0, inplace=True)"
   ]
  },
  {
   "cell_type": "code",
   "execution_count": 33,
   "id": "fb6bdfcb-0efe-4f0b-9ce4-56f1e16130b3",
   "metadata": {
    "tags": []
   },
   "outputs": [],
   "source": [
    "df_test_scaled['inadimplente'] = clf.predict(df_test_scaled)"
   ]
  },
  {
   "cell_type": "code",
   "execution_count": 39,
   "id": "ab15b2ff-e59e-47ee-b343-8e6207d0c6cf",
   "metadata": {},
   "outputs": [],
   "source": [
    "features = df_test_scaled.drop('inadimplente', axis=1).columns"
   ]
  },
  {
   "cell_type": "code",
   "execution_count": 40,
   "id": "87a5f017-bb13-4634-9757-98c89c71cc22",
   "metadata": {},
   "outputs": [],
   "source": [
    "df_test_scaled[features] = scaler.inverse_transform(df_test_scaled[features])"
   ]
  },
  {
   "cell_type": "code",
   "execution_count": 41,
   "id": "ff17686a-fd90-4131-817a-21eddc8500ea",
   "metadata": {},
   "outputs": [
    {
     "data": {
      "text/html": [
       "<div>\n",
       "<style scoped>\n",
       "    .dataframe tbody tr th:only-of-type {\n",
       "        vertical-align: middle;\n",
       "    }\n",
       "\n",
       "    .dataframe tbody tr th {\n",
       "        vertical-align: top;\n",
       "    }\n",
       "\n",
       "    .dataframe thead th {\n",
       "        text-align: right;\n",
       "    }\n",
       "</style>\n",
       "<table border=\"1\" class=\"dataframe\">\n",
       "  <thead>\n",
       "    <tr style=\"text-align: right;\">\n",
       "      <th></th>\n",
       "      <th>util_linhas_inseguras</th>\n",
       "      <th>idade</th>\n",
       "      <th>vezes_passou_de_30_59_dias</th>\n",
       "      <th>razao_debito</th>\n",
       "      <th>salario_mensal</th>\n",
       "      <th>numero_linhas_crdto_aberto</th>\n",
       "      <th>numero_vezes_passou_90_dias</th>\n",
       "      <th>numero_emprestimos_imobiliarios</th>\n",
       "      <th>numero_de_vezes_que_passou_60_89_dias</th>\n",
       "      <th>numero_de_dependentes</th>\n",
       "      <th>inadimplente</th>\n",
       "    </tr>\n",
       "  </thead>\n",
       "  <tbody>\n",
       "    <tr>\n",
       "      <th>0</th>\n",
       "      <td>0.025849</td>\n",
       "      <td>62.0</td>\n",
       "      <td>0.0</td>\n",
       "      <td>0.081775</td>\n",
       "      <td>8180.0</td>\n",
       "      <td>3.0</td>\n",
       "      <td>0.0</td>\n",
       "      <td>2.0</td>\n",
       "      <td>0.0</td>\n",
       "      <td>0.0</td>\n",
       "      <td>0</td>\n",
       "    </tr>\n",
       "    <tr>\n",
       "      <th>1</th>\n",
       "      <td>0.667083</td>\n",
       "      <td>55.0</td>\n",
       "      <td>0.0</td>\n",
       "      <td>0.153112</td>\n",
       "      <td>2200.0</td>\n",
       "      <td>3.0</td>\n",
       "      <td>0.0</td>\n",
       "      <td>0.0</td>\n",
       "      <td>0.0</td>\n",
       "      <td>0.0</td>\n",
       "      <td>0</td>\n",
       "    </tr>\n",
       "    <tr>\n",
       "      <th>2</th>\n",
       "      <td>0.007093</td>\n",
       "      <td>44.0</td>\n",
       "      <td>0.0</td>\n",
       "      <td>0.148800</td>\n",
       "      <td>7499.0</td>\n",
       "      <td>20.0</td>\n",
       "      <td>0.0</td>\n",
       "      <td>1.0</td>\n",
       "      <td>0.0</td>\n",
       "      <td>0.0</td>\n",
       "      <td>0</td>\n",
       "    </tr>\n",
       "    <tr>\n",
       "      <th>3</th>\n",
       "      <td>0.091213</td>\n",
       "      <td>54.0</td>\n",
       "      <td>0.0</td>\n",
       "      <td>0.351635</td>\n",
       "      <td>5900.0</td>\n",
       "      <td>15.0</td>\n",
       "      <td>0.0</td>\n",
       "      <td>1.0</td>\n",
       "      <td>1.0</td>\n",
       "      <td>0.0</td>\n",
       "      <td>0</td>\n",
       "    </tr>\n",
       "    <tr>\n",
       "      <th>4</th>\n",
       "      <td>0.112680</td>\n",
       "      <td>54.0</td>\n",
       "      <td>0.0</td>\n",
       "      <td>0.065959</td>\n",
       "      <td>2167.0</td>\n",
       "      <td>3.0</td>\n",
       "      <td>0.0</td>\n",
       "      <td>0.0</td>\n",
       "      <td>0.0</td>\n",
       "      <td>0.0</td>\n",
       "      <td>0</td>\n",
       "    </tr>\n",
       "  </tbody>\n",
       "</table>\n",
       "</div>"
      ],
      "text/plain": [
       "   util_linhas_inseguras  idade  vezes_passou_de_30_59_dias  razao_debito  \\\n",
       "0               0.025849   62.0                         0.0      0.081775   \n",
       "1               0.667083   55.0                         0.0      0.153112   \n",
       "2               0.007093   44.0                         0.0      0.148800   \n",
       "3               0.091213   54.0                         0.0      0.351635   \n",
       "4               0.112680   54.0                         0.0      0.065959   \n",
       "\n",
       "   salario_mensal  numero_linhas_crdto_aberto  numero_vezes_passou_90_dias  \\\n",
       "0          8180.0                         3.0                          0.0   \n",
       "1          2200.0                         3.0                          0.0   \n",
       "2          7499.0                        20.0                          0.0   \n",
       "3          5900.0                        15.0                          0.0   \n",
       "4          2167.0                         3.0                          0.0   \n",
       "\n",
       "   numero_emprestimos_imobiliarios  numero_de_vezes_que_passou_60_89_dias  \\\n",
       "0                              2.0                                    0.0   \n",
       "1                              0.0                                    0.0   \n",
       "2                              1.0                                    0.0   \n",
       "3                              1.0                                    1.0   \n",
       "4                              0.0                                    0.0   \n",
       "\n",
       "   numero_de_dependentes  inadimplente  \n",
       "0                    0.0             0  \n",
       "1                    0.0             0  \n",
       "2                    0.0             0  \n",
       "3                    0.0             0  \n",
       "4                    0.0             0  "
      ]
     },
     "execution_count": 41,
     "metadata": {},
     "output_type": "execute_result"
    }
   ],
   "source": [
    "df_test_scaled.head()"
   ]
  },
  {
   "cell_type": "code",
   "execution_count": 42,
   "id": "58030b29-c549-4025-9c6c-f420236a066b",
   "metadata": {},
   "outputs": [],
   "source": [
    "df_test_scaled.to_csv(\"./prediction/teste.csv\", index=0)"
   ]
  }
 ],
 "metadata": {
  "kernelspec": {
   "display_name": "Python 3 (ipykernel)",
   "language": "python",
   "name": "python3"
  },
  "language_info": {
   "codemirror_mode": {
    "name": "ipython",
    "version": 3
   },
   "file_extension": ".py",
   "mimetype": "text/x-python",
   "name": "python",
   "nbconvert_exporter": "python",
   "pygments_lexer": "ipython3",
   "version": "3.11.0"
  }
 },
 "nbformat": 4,
 "nbformat_minor": 5
}
